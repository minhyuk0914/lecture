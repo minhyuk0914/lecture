{
 "cells": [
  {
   "cell_type": "code",
   "execution_count": 26,
   "id": "21c6b611-6226-4cd9-ae38-ea5238f7c11a",
   "metadata": {},
   "outputs": [
    {
     "name": "stdout",
     "output_type": "stream",
     "text": [
      "당신의 조선시대 이름은 선칠득 입니다.\n",
      "\n"
     ]
    }
   ],
   "source": [
    "#my_chosun_name 함수 만들기\n",
    "\n",
    "def get_my_chosun_name(family_name, month, day):\n",
    "    month_list = ['쌍', '쇠', '복', '돌', '팽', '육', '쌍', '개', '칠', '갑', '삼', '방']\n",
    "    day_list = ['봉', '구', '욕', '포', '똥', '삼', '식', '석', '놈', '님', '년', '돌', '단', '득', '방', '질', '장', '걸', '래', '룡', '동', '순', '자', '박', '창', '언', '것', '포', '만', '단', '국']\n",
    "    return print(\"당신의 조선시대 이름은\", family_name + month_list[month-1] + day_list[day-1], \"입니다.\\n\")\n",
    "\n",
    "#get_my_chosun_name(성, 달, 일) 호출 \n",
    "get_my_chosun_name('선', 9, 14)"
   ]
  },
  {
   "cell_type": "code",
   "execution_count": null,
   "id": "e4136e31-0d33-47d6-aede-5b878c9d1229",
   "metadata": {},
   "outputs": [],
   "source": []
  }
 ],
 "metadata": {
  "kernelspec": {
   "display_name": "Python 3",
   "language": "python",
   "name": "python3"
  },
  "language_info": {
   "codemirror_mode": {
    "name": "ipython",
    "version": 3
   },
   "file_extension": ".py",
   "mimetype": "text/x-python",
   "name": "python",
   "nbconvert_exporter": "python",
   "pygments_lexer": "ipython3",
   "version": "3.8.8"
  }
 },
 "nbformat": 4,
 "nbformat_minor": 5
}
