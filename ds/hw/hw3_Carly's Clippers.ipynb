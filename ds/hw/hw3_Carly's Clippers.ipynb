{
 "cells": [
  {
   "cell_type": "code",
   "execution_count": 16,
   "id": "27f7b9ab-584a-44f0-95bc-e10882ba3293",
   "metadata": {},
   "outputs": [
    {
     "name": "stdout",
     "output_type": "stream",
     "text": [
      "[['bouffant', 30, 2], ['pixie', 25, 3], ['dreadlocks', 40, 5], ['crew', 20, 8], ['bowl', 20, 4], ['bob', 35, 4], ['mohawk', 50, 6], ['flattop', 35, 2]]\n",
      "Average price is 31.875\n",
      "[25, 20, 35, 15, 15, 30, 45, 30]\n",
      "Average daily revenue is 155.0\n",
      "['bouffant', 'pixie', 'crew', 'bowl']\n"
     ]
    },
    {
     "data": {
      "text/plain": [
       "'\\n질문. 12번 문제상에서 i를 0 부터 len(new_prices) - 1 까지 \\n루프를 반복하라고 되어있는데 len(new_prices)를 해야 될거 같습니다.\\n-1 을 추가한다면 마지막 리스트 아이템을 검사하지 않게됩니다.\\n확인부탁드립니다.\\n'"
      ]
     },
     "execution_count": 16,
     "metadata": {},
     "output_type": "execute_result"
    }
   ],
   "source": [
    "#Carly's Clippers\n",
    "\n",
    "#hairstyles\n",
    "hairstyles = [\"bouffant\", \"pixie\", \"dreadlocks\", \"crew\", \"bowl\", \"bob\", \"mohawk\", \"flattop\"]\n",
    "saveall = [] #각 인덱스의 아이템을 받고 저장할 변수\n",
    "\n",
    "#hairstyles_prices\n",
    "prices = [30, 25, 40, 20, 20, 35, 50, 35]\n",
    "#hairstyles_last week\n",
    "last_week = [2, 3, 5, 8, 4, 4, 6, 2]\n",
    "\n",
    "for i in range(len(hairstyles)):\n",
    "  saveall.append([hairstyles[i],prices[i],last_week[i]]) \n",
    "hairstyles = saveall #변수 hairstyles로 통일\n",
    "print(hairstyles)\n",
    "#average_price\n",
    "total_price = 0\n",
    "for i in range(len(prices)):\n",
    "    total_price += prices[i]\n",
    "average_price = total_price / len(prices)\n",
    "print(\"Average price is\", average_price)\n",
    "\n",
    "#new_prices = prices - 5 \n",
    "new_prices = []\n",
    "for i in range(len(prices)):\n",
    "    new_prices.append(prices[i] - 5)\n",
    "print(new_prices)\n",
    "\n",
    "#Revenue\n",
    "total_revenue = 0\n",
    "for i in range(len(hairstyles)):\n",
    "    total_revenue += prices[i] * last_week[i]\n",
    "average_daily_revenue = total_revenue / 7\n",
    "print(\"Average daily revenue is\", average_daily_revenue)\n",
    "\n",
    "#cut under 30 \n",
    "cuts_under_30 = []\n",
    "for i in range(len(new_prices)):\n",
    "    if new_prices[i] < 30:\n",
    "        cuts_under_30.append(hairstyles[i][0])\n",
    "print (cuts_under_30)\n",
    "\n",
    "\"\"\"\n",
    "질문. 12번 문제상에서 i를 0 부터 len(new_prices) - 1 까지 \n",
    "루프를 반복하라고 되어있는데 len(new_prices)를 해야 될거 같습니다.\n",
    "-1 을 추가한다면 마지막 리스트 아이템을 검사하지 않게됩니다.\n",
    "확인부탁드립니다.\n",
    "\"\"\""
   ]
  }
 ],
 "metadata": {
  "kernelspec": {
   "display_name": "Python 3",
   "language": "python",
   "name": "python3"
  },
  "language_info": {
   "codemirror_mode": {
    "name": "ipython",
    "version": 3
   },
   "file_extension": ".py",
   "mimetype": "text/x-python",
   "name": "python",
   "nbconvert_exporter": "python",
   "pygments_lexer": "ipython3",
   "version": "3.8.8"
  }
 },
 "nbformat": 4,
 "nbformat_minor": 5
}
