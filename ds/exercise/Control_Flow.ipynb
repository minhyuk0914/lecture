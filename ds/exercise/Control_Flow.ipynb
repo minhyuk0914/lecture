{
 "cells": [
  {
   "cell_type": "code",
   "execution_count": 5,
   "id": "2210fbbe-5648-4741-84db-e27f4fd97875",
   "metadata": {},
   "outputs": [
    {
     "name": "stdout",
     "output_type": "stream",
     "text": [
      "<class 'bool'>\n",
      "2\n"
     ]
    }
   ],
   "source": [
    "\"\"\"\n",
    "boolean variables\n",
    "\"\"\"\n",
    "a =2\n",
    "is_tested = False;\n",
    "print(type(is_tested))\n",
    "print (a)"
   ]
  },
  {
   "cell_type": "code",
   "execution_count": 3,
   "id": "26490436-773f-4b04-8382-d74864d9df30",
   "metadata": {},
   "outputs": [
    {
     "name": "stdout",
     "output_type": "stream",
     "text": [
      "<class 'str'>\n",
      "<class 'int'>\n",
      "2\n",
      "2\n",
      "False\n"
     ]
    }
   ],
   "source": [
    "c = '2'\n",
    "d = 2\n",
    "print(type(c))\n",
    "print(type(d))\n",
    "print(c)\n",
    "print (d)\n",
    "print(c==d)"
   ]
  },
  {
   "cell_type": "raw",
   "id": "696fd9e7-9371-40f4-8fe3-4474bcc86ab4",
   "metadata": {},
   "source": []
  }
 ],
 "metadata": {
  "kernelspec": {
   "display_name": "Python 3",
   "language": "python",
   "name": "python3"
  },
  "language_info": {
   "codemirror_mode": {
    "name": "ipython",
    "version": 3
   },
   "file_extension": ".py",
   "mimetype": "text/x-python",
   "name": "python",
   "nbconvert_exporter": "python",
   "pygments_lexer": "ipython3",
   "version": "3.8.8"
  }
 },
 "nbformat": 4,
 "nbformat_minor": 5
}
