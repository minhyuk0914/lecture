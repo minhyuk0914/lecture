{
 "cells": [
  {
   "cell_type": "code",
   "execution_count": 2,
   "id": "765a0024-51f5-454a-8313-1d0fee5088d1",
   "metadata": {},
   "outputs": [],
   "source": [
    "import numpy as np"
   ]
  },
  {
   "cell_type": "code",
   "execution_count": 3,
   "id": "a240c985-5ebd-4e0a-8293-15a2ea27f64a",
   "metadata": {},
   "outputs": [
    {
     "name": "stdout",
     "output_type": "stream",
     "text": [
      "[1 2 3 4]\n"
     ]
    }
   ],
   "source": [
    "# Creating a NumPy Array\n",
    "lst = [1, 2, 3, 4]\n",
    "\n",
    "arr = np.array(lst) # arr = np.array([1, 2, 3, 4]) 동일\n",
    "print(arr)"
   ]
  },
  {
   "cell_type": "code",
   "execution_count": 4,
   "id": "dbcadf7e-eb63-42ee-907b-6a6b9cbacb5d",
   "metadata": {},
   "outputs": [
    {
     "name": "stdout",
     "output_type": "stream",
     "text": [
      "[25, 20, 35, 15, 15, 30, 45, 30]\n",
      "[25 20 35 15 15 30 45 30]\n"
     ]
    }
   ],
   "source": [
    "prices = [30, 25, 40, 20, 20, 35, 50 ,35]\n",
    "new_prices = [price - 5 for price in prices]\n",
    "print (new_prices)\n",
    "\n",
    "# With a ndarray\n",
    "prices_arr = np.array(prices)\n",
    "prices_arr = prices_arr - 5\n",
    "print(prices_arr)"
   ]
  },
  {
   "cell_type": "code",
   "execution_count": 6,
   "id": "f87377a4-ba2f-4a53-980b-36151cf33dc0",
   "metadata": {},
   "outputs": [
    {
     "name": "stdout",
     "output_type": "stream",
     "text": [
      "[92 94 88 91 87]\n",
      "[ 79 100  86  93  91]\n",
      "[85 83 70 88 90]\n",
      "[258 279 246 274 270]\n",
      "[86.         93.         82.         91.33333333 90.        ]\n",
      "93\n",
      "[94 88]\n",
      "[[ 92  94  88  91  87]\n",
      " [ 79 100  86  93  91]\n",
      " [ 87  85  72  90  92]]\n",
      "87\n",
      "[87 91 92]\n"
     ]
    }
   ],
   "source": [
    "test_1 = np.array([92, 94, 88, 91, 87])\n",
    "test_2 = np.array([79, 100, 86, 93, 91])\n",
    "test_3 = np.array([87, 85, 72, 90, 92])\n",
    "test_3_fixed = test_3 - 2\n",
    "print(test_1)\n",
    "print(test_2)\n",
    "print(test_3_fixed)\n",
    "\n",
    "total_grade = test_1 + test_2 + test_3\n",
    "print(total_grade)\n",
    "\n",
    "final_grade = total_grade/3\n",
    "print(final_grade)\n",
    "\n",
    "jeremy_test_2 = test_2[3]\n",
    "print(jeremy_test_2)\n",
    "\n",
    "manual_adwoa_test_1 = np.array([test_1[1], test_1[2]])\n",
    "print(manual_adwoa_test_1)\n",
    "\n",
    "student_score = np.array([test_1, test_2, test_3])\n",
    "print(student_score)\n",
    "\n",
    "print(student_score[2][0])\n",
    "\n",
    "print(student_score[:, 4])"
   ]
  },
  {
   "cell_type": "code",
   "execution_count": 7,
   "id": "4db4945f-77b4-4075-9f3f-cc5e179e0522",
   "metadata": {},
   "outputs": [
    {
     "name": "stdout",
     "output_type": "stream",
     "text": [
      "[ True False False False False False  True  True  True  True]\n",
      "[10  9  8  9  7]\n",
      "[10  2  2  9  8  9  7]\n"
     ]
    }
   ],
   "source": [
    "a = np.array([10, 2, 2, 4, 5, 3, 9, 8, 9, 7])\n",
    "\n",
    "mask = a > 5\n",
    "print(mask)\n",
    "\n",
    "selected = a[a > 5]\n",
    "print(selected)\n",
    "\n",
    "selected = a[(a > 5) | (a < 3)]\n",
    "print(selected)"
   ]
  },
  {
   "cell_type": "code",
   "execution_count": 17,
   "id": "46b4d765-c2a0-4831-af05-1ba4d2450faf",
   "metadata": {},
   "outputs": [
    {
     "name": "stdout",
     "output_type": "stream",
     "text": [
      "[79 65 50 63 56 90 85 98 79 51]\n",
      "[50 56 51]\n",
      "[90 85 98]\n",
      "[79 65 63 79]\n"
     ]
    }
   ],
   "source": [
    "porridge = np.array([79, 65, 50, 63, 56, 90, 85, 98, 79, 51])\n",
    "print(porridge)\n",
    "\n",
    "cold = porridge[porridge < 60]\n",
    "print(cold)\n",
    "hot = porridge[porridge > 80]\n",
    "print(hot)\n",
    "just_right = porridge[(porridge >= 60) & (porridge <= 80)]\n",
    "print(just_right)"
   ]
  }
 ],
 "metadata": {
  "kernelspec": {
   "display_name": "Python 3",
   "language": "python",
   "name": "python3"
  },
  "language_info": {
   "codemirror_mode": {
    "name": "ipython",
    "version": 3
   },
   "file_extension": ".py",
   "mimetype": "text/x-python",
   "name": "python",
   "nbconvert_exporter": "python",
   "pygments_lexer": "ipython3",
   "version": "3.8.8"
  }
 },
 "nbformat": 4,
 "nbformat_minor": 5
}
