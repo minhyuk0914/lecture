{
 "cells": [
  {
   "cell_type": "code",
   "execution_count": 1,
   "id": "f978e08b-21a4-41f4-843a-ddbfd14d3a92",
   "metadata": {},
   "outputs": [],
   "source": [
    "import numpy as np"
   ]
  },
  {
   "cell_type": "code",
   "execution_count": 2,
   "id": "2e15f135-bca5-4341-be7f-baf483c52052",
   "metadata": {},
   "outputs": [
    {
     "name": "stdout",
     "output_type": "stream",
     "text": [
      "[2 9 7 2 3]\n"
     ]
    }
   ],
   "source": [
    "# Function for computing reciprocals using Looping\n",
    "def compute_reciprocals(values):\n",
    "    output = np.empty(len(values))\n",
    "    for i in range(len(values)):\n",
    "        output[i] = 1.0 / values[i]\n",
    "    return output\n",
    "\n",
    "values = np.random.randint(1, 10, size = 5)\n",
    "print(values)"
   ]
  },
  {
   "cell_type": "code",
   "execution_count": 16,
   "id": "18cd211b-1fb3-4f6b-a340-11ce9ff62045",
   "metadata": {},
   "outputs": [
    {
     "name": "stdout",
     "output_type": "stream",
     "text": [
      "1.85 s ± 16.8 ms per loop (mean ± std. dev. of 7 runs, 1 loop each)\n"
     ]
    }
   ],
   "source": [
    "big_array = np.random.randint(1, 100, size=1000000)\n",
    "\n",
    "# Looping on a big array\n",
    "\n",
    "# Jupyter magic function\n",
    "%timeit compute_reciprocals(big_array)"
   ]
  },
  {
   "cell_type": "code",
   "execution_count": 4,
   "id": "99412c59-50b0-4d05-a863-8fdb8b0c2d9d",
   "metadata": {},
   "outputs": [
    {
     "name": "stdout",
     "output_type": "stream",
     "text": [
      "2.07 ms ± 12.2 µs per loop (mean ± std. dev. of 7 runs, 100 loops each)\n"
     ]
    }
   ],
   "source": [
    "#Vectorized operations\n",
    "%timeit 1 / big_array"
   ]
  },
  {
   "cell_type": "code",
   "execution_count": 5,
   "id": "bf983445-6e25-4ca6-9665-c6fd2efabd43",
   "metadata": {},
   "outputs": [
    {
     "name": "stdout",
     "output_type": "stream",
     "text": [
      "[5 8 9 5 0] [0 1 7 6 9]\n",
      "[ 3  6  7  3 -2] [0 1 7 6 9]\n",
      "[ 3  7 14  9  7]\n",
      "[[2 4 5 2 4]\n",
      " [2 4 7 7 9]\n",
      " [1 7 0 6 9]]\n",
      "[[ 4 16 25  4 16]\n",
      " [ 4 16 49 49 81]\n",
      " [ 1 49  0 36 81]]\n"
     ]
    }
   ],
   "source": [
    "np.random.seed(1)\n",
    "arr1 = np.random.randint(10, size=5)\n",
    "arr2 = np.random.randint(10, size=5)\n",
    "print(arr1, arr2)\n",
    "\n",
    "arr1 = arr1 - 2\n",
    "print(arr1, arr2)\n",
    "\n",
    "arr3 = arr1 + arr2\n",
    "print(arr3)\n",
    "\n",
    "arr4 = np.random.randint(10, size=(3, 5))\n",
    "print(arr4)\n",
    "\n",
    "arr5 = arr4 ** 2\n",
    "print(arr5)"
   ]
  },
  {
   "cell_type": "code",
   "execution_count": 18,
   "id": "931d7db6-a09d-4aea-8983-78bd10a6d401",
   "metadata": {},
   "outputs": [
    {
     "name": "stdout",
     "output_type": "stream",
     "text": [
      "[2 1 0 1 2]\n",
      "[5. 5. 2. 1.]\n"
     ]
    }
   ],
   "source": [
    "x = np.array([-2, -1, 0, 1, 2])\n",
    "print(np.abs(x))\n",
    "\n",
    "x = np.array([3-4j, 4-3j, 2+0j, 0_1j])\n",
    "print(np.abs(x))"
   ]
  },
  {
   "cell_type": "code",
   "execution_count": 7,
   "id": "b735ddfe-5e78-406e-917d-18cec142c781",
   "metadata": {},
   "outputs": [
    {
     "name": "stdout",
     "output_type": "stream",
     "text": [
      "[0.         1.57079633 3.14159265]\n",
      "[0.0000000e+00 1.0000000e+00 1.2246468e-16]\n",
      "[ 1.000000e+00  6.123234e-17 -1.000000e+00]\n",
      "[ 0.00000000e+00  1.63312394e+16 -1.22464680e-16]\n",
      "[  0.  10.  20.  30.  40.  50.  60.  70.  80.  90. 100.]\n"
     ]
    }
   ],
   "source": [
    "theta = np.linspace(0, np.pi, 3)\n",
    "\n",
    "print(theta)\n",
    "print(np.sin(theta))\n",
    "print(np.cos(theta))\n",
    "print(np.tan(theta))\n",
    "\n",
    "x = np.linspace(0, 100, 11)\n",
    "print(x)"
   ]
  },
  {
   "cell_type": "code",
   "execution_count": 8,
   "id": "a8af3f76-33fb-46ce-a513-7361d9fd432b",
   "metadata": {},
   "outputs": [
    {
     "name": "stdout",
     "output_type": "stream",
     "text": [
      "10\n",
      "24\n"
     ]
    }
   ],
   "source": [
    "x = np.arange(1, 5)\n",
    "\n",
    "aggr = np.add.reduce(x)\n",
    "print(aggr)\n",
    "\n",
    "aggr = np.multiply.reduce(x)\n",
    "print(aggr)"
   ]
  },
  {
   "cell_type": "code",
   "execution_count": 9,
   "id": "3398005f-6a60-41e6-895e-034f87007e32",
   "metadata": {},
   "outputs": [
    {
     "name": "stdout",
     "output_type": "stream",
     "text": [
      "[1 2 3 4]\n",
      "[ 1  3  6 10]\n",
      "[ 1  2  6 24]\n"
     ]
    }
   ],
   "source": [
    "print(x)\n",
    "\n",
    "accum = np.add.accumulate(x)\n",
    "print(accum)\n",
    "\n",
    "accum = np.multiply.accumulate(x)\n",
    "print(accum)"
   ]
  },
  {
   "cell_type": "code",
   "execution_count": 10,
   "id": "e94ac537-d10d-490c-92ee-15e9e5797a4d",
   "metadata": {},
   "outputs": [
    {
     "name": "stdout",
     "output_type": "stream",
     "text": [
      "[0.5507979  0.70814782 0.29090474 ... 0.93033748 0.80429816 0.47400579]\n",
      "sum = 500422.19897015305\n"
     ]
    }
   ],
   "source": [
    "np.random.seed(3)\n",
    "arr = np.random.rand(1000000) #rand(): create 0 ~ 1 real numbers\n",
    "\n",
    "print(arr)\n",
    "print(\"sum =\", np.sum(arr))"
   ]
  },
  {
   "cell_type": "code",
   "execution_count": 11,
   "id": "e4e08b8c-3b84-48b4-9b47-ada088af422d",
   "metadata": {},
   "outputs": [
    {
     "name": "stdout",
     "output_type": "stream",
     "text": [
      "80.3 ms ± 377 µs per loop (mean ± std. dev. of 7 runs, 10 loops each)\n"
     ]
    }
   ],
   "source": [
    "%timeit sum(arr)"
   ]
  },
  {
   "cell_type": "code",
   "execution_count": 12,
   "id": "ac7f206f-2ec0-4e1c-aa71-7716c068ec3b",
   "metadata": {},
   "outputs": [
    {
     "name": "stdout",
     "output_type": "stream",
     "text": [
      "291 µs ± 623 ns per loop (mean ± std. dev. of 7 runs, 1000 loops each)\n"
     ]
    }
   ],
   "source": [
    "%timeit np.sum(arr)"
   ]
  },
  {
   "cell_type": "code",
   "execution_count": 13,
   "id": "d7bd2999-5039-4b02-b2f4-27d2681fbb66",
   "metadata": {},
   "outputs": [
    {
     "name": "stdout",
     "output_type": "stream",
     "text": [
      "max = 0.9999996367889004\n",
      "min = 1.5496004267534502e-06\n",
      "mean = 0.500422198970153\n",
      "median = 0.5005659265960778\n",
      "percentile = 0.9001765340710965\n",
      "False\n",
      "True\n"
     ]
    }
   ],
   "source": [
    "print(\"max =\", np.max(arr))\n",
    "print(\"min =\", np.min(arr))\n",
    "print(\"mean =\", np.mean(arr))\n",
    "print(\"median =\", np.median(arr))\n",
    "print(\"percentile =\", np.percentile(arr, 90))\n",
    "\n",
    "print(np.any(arr>1))\n",
    "print(np.all(arr>0)) # range [0,1)"
   ]
  },
  {
   "cell_type": "code",
   "execution_count": 14,
   "id": "3d83cec4-d02c-4e39-a971-29d785f6ad9a",
   "metadata": {},
   "outputs": [
    {
     "name": "stdout",
     "output_type": "stream",
     "text": [
      "[[3 6 6 0]\n",
      " [9 8 4 7]\n",
      " [0 0 7 1]]\n",
      "[12 14 17  8]\n",
      "[15 28  8]\n"
     ]
    }
   ],
   "source": [
    "np.random.seed(5)\n",
    "arr = np.random.randint(10, size=(3, 4))\n",
    "print(arr)\n",
    "\n",
    "print(np.sum(arr, axis = 0)) #axis = 0 행 \n",
    "print(np.sum(arr, axis = 1)) #axis = 1 열"
   ]
  }
 ],
 "metadata": {
  "kernelspec": {
   "display_name": "Python 3",
   "language": "python",
   "name": "python3"
  },
  "language_info": {
   "codemirror_mode": {
    "name": "ipython",
    "version": 3
   },
   "file_extension": ".py",
   "mimetype": "text/x-python",
   "name": "python",
   "nbconvert_exporter": "python",
   "pygments_lexer": "ipython3",
   "version": "3.8.8"
  }
 },
 "nbformat": 4,
 "nbformat_minor": 5
}
